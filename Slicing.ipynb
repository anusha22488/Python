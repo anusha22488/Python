{
 "cells": [
  {
   "cell_type": "code",
   "execution_count": 6,
   "id": "851770c7-c834-4068-9912-c6d4bbaf4dda",
   "metadata": {},
   "outputs": [
    {
     "data": {
      "text/plain": [
       "'MANE ear'"
      ]
     },
     "execution_count": 6,
     "metadata": {},
     "output_type": "execute_result"
    }
   ],
   "source": [
    "#Slicing\n",
    "x = \"Machine Learning\"\n",
    "#print MALE\n",
    "x[0:2].upper()+x[8:10].upper()\n",
    "#Print MANEar\n",
    "x[0:2].upper()+x[5:7].upper()+x[9:12].lower()\n",
    "#print MANE ar\n",
    "x[0:2].upper()+x[5:7].upper()+\" \"+x[9:12].lower()"
   ]
  },
  {
   "cell_type": "code",
   "execution_count": 21,
   "id": "6dda1fb1-ef41-42d6-86d6-088fb1b4c86e",
   "metadata": {},
   "outputs": [
    {
     "data": {
      "text/plain": [
       "'da'"
      ]
     },
     "execution_count": 21,
     "metadata": {},
     "output_type": "execute_result"
    }
   ],
   "source": [
    "y = [\"data\",9,2024.23,3+4j,[10,20,30]]\n",
    "#print da\n",
    "y[0][0:2]\n",
    "#print da using negative indexing\n",
    "y[-5][ :-2]"
   ]
  },
  {
   "cell_type": "code",
   "execution_count": 25,
   "id": "570fa024-6457-489c-9b3b-685e3aa29410",
   "metadata": {},
   "outputs": [
    {
     "data": {
      "text/plain": [
       "'GEO,BIO,CHEM'"
      ]
     },
     "execution_count": 25,
     "metadata": {},
     "output_type": "execute_result"
    }
   ],
   "source": [
    "topics = [\n",
    "    ['Math', ['Algebra', 'Calculus', 'Geometry']],\n",
    "    ['Science', ['Physics', 'Chemistry', 'Biology']],\n",
    "    ['Technology', ['Programming', 'Networking', 'AI']],\n",
    "    ['History', ['Ancient', 'Medieval', 'Modern']],\n",
    "    ['Art', ['Painting', 'Sculpture', 'Architecture']]\n",
    "]\n",
    "#print Modren Architecture\n",
    "topics[3][1][2]+\" \"+topics[4][1][2]\n",
    "#print GEO,BIO,CHEM\n",
    "topics[0][1][2][0:3].upper()+\",\"+topics[1][1][2][0:3].upper()+\",\"+topics[1][1][1][0:4].upper()"
   ]
  },
  {
   "cell_type": "code",
   "execution_count": null,
   "id": "c451d64f-2d30-404b-a329-93cdd86ccb2b",
   "metadata": {},
   "outputs": [],
   "source": []
  }
 ],
 "metadata": {
  "kernelspec": {
   "display_name": "Python 3 (ipykernel)",
   "language": "python",
   "name": "python3"
  },
  "language_info": {
   "codemirror_mode": {
    "name": "ipython",
    "version": 3
   },
   "file_extension": ".py",
   "mimetype": "text/x-python",
   "name": "python",
   "nbconvert_exporter": "python",
   "pygments_lexer": "ipython3",
   "version": "3.13.2"
  }
 },
 "nbformat": 4,
 "nbformat_minor": 5
}
